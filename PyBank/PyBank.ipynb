{
 "cells": [
  {
   "cell_type": "code",
   "execution_count": 1,
   "metadata": {},
   "outputs": [],
   "source": [
    "import csv\n",
    "import os"
   ]
  },
  {
   "cell_type": "code",
   "execution_count": 2,
   "metadata": {},
   "outputs": [
    {
     "data": {
      "text/plain": [
       "'Resources\\\\budget_data.csv'"
      ]
     },
     "execution_count": 2,
     "metadata": {},
     "output_type": "execute_result"
    }
   ],
   "source": [
    "budget_csv = os.path.join('Resources', 'budget_data.csv')\n",
    "budget_csv"
   ]
  },
  {
   "cell_type": "code",
   "execution_count": 3,
   "metadata": {},
   "outputs": [],
   "source": [
    "# Read in the CSV file\n",
    "with open(budget_csv, 'r') as csvfile:\n",
    "    \n",
    "    csvreader = csv.reader(csvfile, delimiter=',')\n",
    "    header = next(csvreader)\n",
    "    date = []\n",
    "    amount = 0\n",
    "    prevamount = 0\n",
    "    curamount = 0\n",
    "    amountchange = 0\n",
    "    avgchangelist = []\n",
    "    avgchange = 0\n",
    "    maxamchange = 0\n",
    "    minamchange = 0\n",
    "    maxamchange_date = 0\n",
    "    minamchange_date = 0\n",
    "    i = 0\n",
    "  \n",
    "    for row in csvreader:\n",
    "        \n",
    "        i = i + 1\n",
    "        \n",
    "        date.append(row[0])\n",
    "\n",
    "        amount = amount+int(row[1])\n",
    "    \n",
    "        amountchange = int(row[1])-prevamount\n",
    "        \n",
    "        avgchangelist.append(amountchange)\n",
    "        \n",
    "        prevamount = prevamount+int(row[1])\n",
    "        \n",
    "        if amountchange < minamchange:\n",
    "            minamchange_date=str(row[0]) \n",
    "            minamchange = amountchange - minamchange\n",
    "        \n",
    "        elif amountchange > maxamchange:\n",
    "            maxamchange_date =str(row[0])\n",
    "            maxamchange = maxamchange + amountchange   \n",
    "        \n",
    "    avgchange = sum(avgchangelist)/i"
   ]
  },
  {
   "cell_type": "code",
   "execution_count": 4,
   "metadata": {},
   "outputs": [
    {
     "name": "stdout",
     "output_type": "stream",
     "text": [
      "Financial Analysis\n",
      "-----------------------------------\n",
      "Total no. of months: 86\n",
      "Total Amount: $ 38382578\n",
      "Average Change: $ -19176006.046511628\n",
      "Greatest Increase in Profits: Jan-2010 ($ 867884 )\n",
      "Greatest Decrease in Profits: Feb-2017 ($ -12188563 )\n"
     ]
    }
   ],
   "source": [
    "    print(\"Financial Analysis\")\n",
    "    print(\"-----------------------------------\")\n",
    "    print(\"Total no. of months:\", len(date))\n",
    "    print(\"Total Amount: $\", amount)\n",
    "    print(\"Average Change: $\", avgchange)\n",
    "    print(\"Greatest Increase in Profits:\", maxamchange_date,\"($\", maxamchange,\")\")\n",
    "    print(\"Greatest Decrease in Profits:\", minamchange_date,\"($\", minamchange,\")\")\n",
    "    "
   ]
  },
  {
   "cell_type": "code",
   "execution_count": 5,
   "metadata": {},
   "outputs": [],
   "source": [
    "text_file = open(\"PyBankResults.txt\", \"w\")"
   ]
  },
  {
   "cell_type": "code",
   "execution_count": 6,
   "metadata": {},
   "outputs": [],
   "source": [
    "with open(\"PyBankResults.txt\", \"w\") as text_file:\n",
    "\n",
    "    print(f\"Financial Analysis\", file=text_file)\n",
    "    print(f\"-----------------------------------\", file=text_file)\n",
    "    print(f\"Total no. of months:\", len(date), file=text_file)\n",
    "    print(f\"Total Amount: $\", amount, file=text_file)\n",
    "    print(f\"Average Change: $\", avgchange, file=text_file)\n",
    "    print(f\"Greatest Increase in Profits:\", maxamchange_date,\"($\", maxamchange,\")\", file=text_file)\n",
    "    print(f\"Greatest Decrease in Profits:\", minamchange_date,\"($\", minamchange,\")\", file=text_file)\n",
    "\n",
    "text_file.close()"
   ]
  }
 ],
 "metadata": {
  "kernelspec": {
   "display_name": "Python 3",
   "language": "python",
   "name": "python3"
  },
  "language_info": {
   "codemirror_mode": {
    "name": "ipython",
    "version": 3
   },
   "file_extension": ".py",
   "mimetype": "text/x-python",
   "name": "python",
   "nbconvert_exporter": "python",
   "pygments_lexer": "ipython3",
   "version": "3.7.4"
  }
 },
 "nbformat": 4,
 "nbformat_minor": 2
}
