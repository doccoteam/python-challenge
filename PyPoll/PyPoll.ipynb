{
 "cells": [
  {
   "cell_type": "code",
   "execution_count": 1,
   "metadata": {},
   "outputs": [],
   "source": [
    "import csv\n",
    "import os"
   ]
  },
  {
   "cell_type": "code",
   "execution_count": 2,
   "metadata": {},
   "outputs": [
    {
     "data": {
      "text/plain": [
       "'Resources\\\\election_data.csv'"
      ]
     },
     "execution_count": 2,
     "metadata": {},
     "output_type": "execute_result"
    }
   ],
   "source": [
    "e_csv = os.path.join('Resources', 'election_data.csv')\n",
    "e_csv"
   ]
  },
  {
   "cell_type": "code",
   "execution_count": 3,
   "metadata": {},
   "outputs": [],
   "source": [
    "# The dataset is composed of three columns: Voter ID, County, and Candidate. \n",
    "# Your task is to create a Python script that analyzes the votes and calculates each of the following:\n",
    "# The total number of votes cast\n",
    "# A complete list of candidates who received votes\n",
    "# The percentage of votes each candidate won\n",
    "# The total number of votes each candidate won\n",
    "# The winner of the election based on popular vote.\n",
    "\n",
    "total_votes = 0\n",
    "list_candidates = []\n",
    "votes_per_candidate = []\n",
    "percentage_votes = []\n",
    "\n",
    "\n",
    "with open(e_csv, 'r') as csvfile:\n",
    "    \n",
    "    csvreader = csv.reader(csvfile, delimiter=',')\n",
    "    header = next(csvreader)\n",
    "\n",
    "  \n",
    "    for row in csvreader:\n",
    "        \n",
    "        total_votes = total_votes + 1\n",
    "\n",
    "        if row[2] not in list_candidates:\n",
    "            list_candidates.append(row[2])\n",
    "            index = list_candidates.index(row[2])\n",
    "            votes_per_candidate.append(1)\n",
    "        else:\n",
    "            index = list_candidates.index(row[2])\n",
    "            votes_per_candidate[index] += 1\n",
    "    \n",
    "    for votes in votes_per_candidate:\n",
    "        percentage = (votes/total_votes) * 100\n",
    "        percentage = round(percentage)\n",
    "        percentage = \"%.3f%%\" % percentage\n",
    "        percentage_votes.append(percentage)\n",
    "    \n",
    "    candidate_win = max(votes_per_candidate)\n",
    "    index = votes_per_candidate.index(candidate_win)\n",
    "    winning_candidate = list_candidates[index] "
   ]
  },
  {
   "cell_type": "code",
   "execution_count": 4,
   "metadata": {},
   "outputs": [
    {
     "name": "stdout",
     "output_type": "stream",
     "text": [
      "Election Results\n",
      "--------------------------\n",
      "Total Votes: 3521001\n",
      "--------------------------\n",
      "Khan: 63.000% (2218231)\n",
      "Correy: 20.000% (704200)\n",
      "Li: 14.000% (492940)\n",
      "O'Tooley: 3.000% (105630)\n",
      "--------------------------\n",
      "Winner: Khan\n",
      "--------------------------\n"
     ]
    }
   ],
   "source": [
    "print(\"Election Results\")\n",
    "print(\"--------------------------\")\n",
    "print(f\"Total Votes: {str(total_votes)}\")\n",
    "print(\"--------------------------\")\n",
    "for i in range(len(list_candidates)):\n",
    "    print(f\"{list_candidates[i]}: {str(percentage_votes[i])} ({str(votes_per_candidate[i])})\")\n",
    "print(\"--------------------------\")\n",
    "print(f\"Winner: {winning_candidate}\")\n",
    "print(\"--------------------------\")"
   ]
  },
  {
   "cell_type": "code",
   "execution_count": 5,
   "metadata": {},
   "outputs": [],
   "source": [
    "text_file = open(\"PyPollResults.txt\", \"w\")\n",
    "\n",
    "with open(\"PyPollResults.txt\", \"w\") as text_file:\n",
    "    print(f\"Election Results\", file=text_file)\n",
    "    print(f\"-----------------------------------\", file=text_file)\n",
    "    print(f\"Total Votes: {str(total_votes)}\", file=text_file)\n",
    "    print(f\"-----------------------------------\", file=text_file)\n",
    "    for i in range(len(list_candidates)):\n",
    "        print(f\"{list_candidates[i]}: {str(percentage_votes[i])} ({str(votes_per_candidate[i])})\", file=text_file)\n",
    "    print(\"--------------------------\", file=text_file)\n",
    "    print(f\"Winner: {winning_candidate}\", file=text_file)\n",
    "    print(\"--------------------------\", file=text_file)\n",
    "\n",
    "text_file.close()"
   ]
  }
 ],
 "metadata": {
  "kernelspec": {
   "display_name": "Python 3",
   "language": "python",
   "name": "python3"
  },
  "language_info": {
   "codemirror_mode": {
    "name": "ipython",
    "version": 3
   },
   "file_extension": ".py",
   "mimetype": "text/x-python",
   "name": "python",
   "nbconvert_exporter": "python",
   "pygments_lexer": "ipython3",
   "version": "3.7.4"
  }
 },
 "nbformat": 4,
 "nbformat_minor": 2
}
